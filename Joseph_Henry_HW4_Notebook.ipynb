{
  "nbformat": 4,
  "nbformat_minor": 0,
  "metadata": {
    "colab": {
      "provenance": []
    },
    "kernelspec": {
      "name": "python3",
      "display_name": "Python 3"
    },
    "language_info": {
      "name": "python"
    }
  },
  "cells": [
    {
      "cell_type": "code",
      "execution_count": null,
      "metadata": {
        "colab": {
          "base_uri": "https://localhost:8080/"
        },
        "id": "WRWkpxLmHc_Q",
        "outputId": "8fa31b77-118b-4f41-eccd-d2289b25d17c"
      },
      "outputs": [
        {
          "output_type": "stream",
          "name": "stdout",
          "text": [
            "True Labels:\n",
            "['tested_positive' 'tested_positive' 'tested_positive' 'tested_negative'\n",
            " 'tested_negative' 'tested_positive' 'tested_positive' 'tested_positive'\n",
            " 'tested_negative' 'tested_positive']\n",
            "Predicted Labels:\n",
            "['tested_positive' 'tested_negative' 'tested_positive' 'tested_negative'\n",
            " 'tested_negative' 'tested_negative' 'tested_positive' 'tested_positive'\n",
            " 'tested_negative' 'tested_negative']\n"
          ]
        }
      ],
      "source": [
        "import pandas as pd\n",
        "from sklearn.svm import SVC\n",
        "from sklearn.preprocessing import StandardScaler\n",
        "\n",
        "#loading data\n",
        "df = pd.read_csv('/content/drive/MyDrive/CSC 487/HW4/diabetes_train.csv')\n",
        "\n",
        "#splitting into features (X) and labels (y)\n",
        "X = df.iloc[:, :-1]\n",
        "y = df.iloc[:, -1]\n",
        "\n",
        "#splitting into training and test set\n",
        "X_train = X.iloc[:-10]\n",
        "y_train = y.iloc[:-10]\n",
        "X_test = X.iloc[-10:]\n",
        "y_test = y.iloc[-10:]\n",
        "\n",
        "#standardizing features\n",
        "scaler = StandardScaler()\n",
        "X_train_scaled = scaler.fit_transform(X_train)\n",
        "X_test_scaled = scaler.transform(X_test)\n",
        "\n",
        "#creating and training the SVM classifier\n",
        "svm = SVC()\n",
        "svm.fit(X_train_scaled, y_train)\n",
        "\n",
        "#doing predicitons based on the test set\n",
        "y_pred = svm.predict(X_test_scaled)\n",
        "\n",
        "#printing results\n",
        "print(\"True Labels:\")\n",
        "print(y_test.values)\n",
        "print(\"Predicted Labels:\")\n",
        "print(y_pred)\n"
      ]
    },
    {
      "cell_type": "code",
      "source": [
        "from sklearn.metrics import accuracy_score\n",
        "\n",
        "#calculating accuracy\n",
        "accuracy = accuracy_score(y_test, y_pred)\n",
        "print(\"Accuracy:\", accuracy * 100,\"%\")"
      ],
      "metadata": {
        "colab": {
          "base_uri": "https://localhost:8080/"
        },
        "id": "FQDYGw6BKUEg",
        "outputId": "1326ab32-748f-448a-f929-d3bd37b1aa17"
      },
      "execution_count": null,
      "outputs": [
        {
          "output_type": "stream",
          "name": "stdout",
          "text": [
            "Accuracy: 70.0 %\n"
          ]
        }
      ]
    }
  ]
}